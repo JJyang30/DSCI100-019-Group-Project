{
 "cells": [
  {
   "cell_type": "code",
   "execution_count": 1,
   "id": "592636d1",
   "metadata": {},
   "outputs": [
    {
     "name": "stderr",
     "output_type": "stream",
     "text": [
      "Updating HTML index of packages in '.Library'\n",
      "\n",
      "Making 'packages.html' ...\n",
      " done\n",
      "\n",
      "also installing the dependencies ‘RANN’, ‘ROSE’\n",
      "\n",
      "\n",
      "Updating HTML index of packages in '.Library'\n",
      "\n",
      "Making 'packages.html' ...\n",
      " done\n",
      "\n",
      "Loading required package: recipes\n",
      "\n",
      "Loading required package: dplyr\n",
      "\n",
      "\n",
      "Attaching package: ‘dplyr’\n",
      "\n",
      "\n",
      "The following objects are masked from ‘package:stats’:\n",
      "\n",
      "    filter, lag\n",
      "\n",
      "\n",
      "The following objects are masked from ‘package:base’:\n",
      "\n",
      "    intersect, setdiff, setequal, union\n",
      "\n",
      "\n",
      "\n",
      "Attaching package: ‘recipes’\n",
      "\n",
      "\n",
      "The following object is masked from ‘package:stats’:\n",
      "\n",
      "    step\n",
      "\n",
      "\n",
      "Warning message:\n",
      "“package ‘ggplot2’ was built under R version 4.3.2”\n",
      "── \u001b[1mAttaching core tidyverse packages\u001b[22m ──────────────────────── tidyverse 2.0.0 ──\n",
      "\u001b[32m✔\u001b[39m \u001b[34mforcats  \u001b[39m 1.0.0     \u001b[32m✔\u001b[39m \u001b[34mreadr    \u001b[39m 2.1.4\n",
      "\u001b[32m✔\u001b[39m \u001b[34mggplot2  \u001b[39m 3.5.0     \u001b[32m✔\u001b[39m \u001b[34mstringr  \u001b[39m 1.5.0\n",
      "\u001b[32m✔\u001b[39m \u001b[34mlubridate\u001b[39m 1.9.2     \u001b[32m✔\u001b[39m \u001b[34mtibble   \u001b[39m 3.2.1\n",
      "\u001b[32m✔\u001b[39m \u001b[34mpurrr    \u001b[39m 1.0.2     \u001b[32m✔\u001b[39m \u001b[34mtidyr    \u001b[39m 1.3.0\n",
      "── \u001b[1mConflicts\u001b[22m ────────────────────────────────────────── tidyverse_conflicts() ──\n",
      "\u001b[31m✖\u001b[39m \u001b[34mdplyr\u001b[39m::\u001b[32mfilter()\u001b[39m  masks \u001b[34mstats\u001b[39m::filter()\n",
      "\u001b[31m✖\u001b[39m \u001b[34mstringr\u001b[39m::\u001b[32mfixed()\u001b[39m masks \u001b[34mrecipes\u001b[39m::fixed()\n",
      "\u001b[31m✖\u001b[39m \u001b[34mdplyr\u001b[39m::\u001b[32mlag()\u001b[39m     masks \u001b[34mstats\u001b[39m::lag()\n",
      "\u001b[36mℹ\u001b[39m Use the conflicted package (\u001b[3m\u001b[34m<http://conflicted.r-lib.org/>\u001b[39m\u001b[23m) to force all conflicts to become errors\n",
      "── \u001b[1mAttaching packages\u001b[22m ────────────────────────────────────── tidymodels 1.1.1 ──\n",
      "\n",
      "\u001b[32m✔\u001b[39m \u001b[34mbroom       \u001b[39m 1.0.5     \u001b[32m✔\u001b[39m \u001b[34mrsample     \u001b[39m 1.2.0\n",
      "\u001b[32m✔\u001b[39m \u001b[34mdials       \u001b[39m 1.2.0     \u001b[32m✔\u001b[39m \u001b[34mtune        \u001b[39m 1.1.2\n",
      "\u001b[32m✔\u001b[39m \u001b[34minfer       \u001b[39m 1.0.5     \u001b[32m✔\u001b[39m \u001b[34mworkflows   \u001b[39m 1.1.3\n",
      "\u001b[32m✔\u001b[39m \u001b[34mmodeldata   \u001b[39m 1.2.0     \u001b[32m✔\u001b[39m \u001b[34mworkflowsets\u001b[39m 1.0.1\n",
      "\u001b[32m✔\u001b[39m \u001b[34mparsnip     \u001b[39m 1.1.1     \u001b[32m✔\u001b[39m \u001b[34myardstick   \u001b[39m 1.2.0\n",
      "\n",
      "── \u001b[1mConflicts\u001b[22m ───────────────────────────────────────── tidymodels_conflicts() ──\n",
      "\u001b[31m✖\u001b[39m \u001b[34mscales\u001b[39m::\u001b[32mdiscard()\u001b[39m masks \u001b[34mpurrr\u001b[39m::discard()\n",
      "\u001b[31m✖\u001b[39m \u001b[34mdplyr\u001b[39m::\u001b[32mfilter()\u001b[39m   masks \u001b[34mstats\u001b[39m::filter()\n",
      "\u001b[31m✖\u001b[39m \u001b[34mstringr\u001b[39m::\u001b[32mfixed()\u001b[39m  masks \u001b[34mrecipes\u001b[39m::fixed()\n",
      "\u001b[31m✖\u001b[39m \u001b[34mdplyr\u001b[39m::\u001b[32mlag()\u001b[39m      masks \u001b[34mstats\u001b[39m::lag()\n",
      "\u001b[31m✖\u001b[39m \u001b[34myardstick\u001b[39m::\u001b[32mspec()\u001b[39m masks \u001b[34mreadr\u001b[39m::spec()\n",
      "\u001b[31m✖\u001b[39m \u001b[34mrecipes\u001b[39m::\u001b[32mstep()\u001b[39m   masks \u001b[34mstats\u001b[39m::step()\n",
      "\u001b[34m•\u001b[39m Learn how to get started at \u001b[32mhttps://www.tidymodels.org/start/\u001b[39m\n",
      "\n"
     ]
    }
   ],
   "source": [
    "install.packages(\"recipes\")\n",
    "install.packages(\"themis\")\n",
    "library(themis)\n",
    "library(tidyverse)\n",
    "library(repr)\n",
    "library(tidymodels)\n",
    "options(repr.matrix.max.rows = 6)"
   ]
  },
  {
   "cell_type": "markdown",
   "id": "d995f207-877d-4cf0-808b-13ff2600c47d",
   "metadata": {},
   "source": [
    "HEART DISEASE DIAGNOSES\n",
    "=======================\n",
    "\n",
    "Introduction:\n",
    "-------------\n",
    " \n",
    "   Heart disease is a range of conditions which affect one's cardiovascular system. The most common condition is coronary artery disease, in which plaque builds up in arteries, narrowing the vessel walls. If the buildup continues, blood will have a hard time flowing through these vessels. This condition can lead to heart attacks or strokes. Several factors influence an individual's likelihood to be diagnosed with this condition, including high blood pressure, high cholesterol, and smoking. Poor diet, excessive drinking, poor fitness, and diabetes are also factors. \n",
    "\t\n",
    "   Using the patient statistics in the UC Irvine University dataset, can we accurately predict the heart disease diagnoses of other patients? We will be using the aforementioned data set that lists 14 factors which influence the likelihood of heart disease, as well as the diagnoses of this patient. The diagnosis column ranges from 0-4, with 0 being no heart disease detected, and 4 being an extreme presence of the disease. We will be keeping 75% of the data for training and using 25% of it for testing. We will test the accuracy, precision and recall of the predictions that R makes, based off of this dataset. We will use a K nearest neighbor prediction calculation to test if the UC Irvine University dataset can accurately predict a diagnosis.\n",
    "\n",
    "Research Question: \n",
    "------------------\n",
    "Can we accurately predict if a patient has heart disease based on their age, resting blood pressure, and cholesterol levels? \n",
    "\n"
   ]
  },
  {
   "cell_type": "markdown",
   "id": "2a18d652",
   "metadata": {},
   "source": [
    "Reading The Data:\n",
    "-----------------"
   ]
  },
  {
   "cell_type": "markdown",
   "id": "6bc2aa32",
   "metadata": {},
   "source": [
    "*Training Data*"
   ]
  },
  {
   "cell_type": "code",
   "execution_count": 4,
   "id": "bf048cf7",
   "metadata": {},
   "outputs": [
    {
     "data": {
      "text/html": [
       "<table class=\"dataframe\">\n",
       "<caption>A data.frame: 303 × 14</caption>\n",
       "<thead>\n",
       "\t<tr><th scope=col>age</th><th scope=col>sex</th><th scope=col>cp</th><th scope=col>trestbps</th><th scope=col>chol</th><th scope=col>fbs</th><th scope=col>restecg</th><th scope=col>thalach</th><th scope=col>exang</th><th scope=col>oldpeak</th><th scope=col>slope</th><th scope=col>ca</th><th scope=col>thal</th><th scope=col>num</th></tr>\n",
       "\t<tr><th scope=col>&lt;dbl&gt;</th><th scope=col>&lt;dbl&gt;</th><th scope=col>&lt;dbl&gt;</th><th scope=col>&lt;dbl&gt;</th><th scope=col>&lt;dbl&gt;</th><th scope=col>&lt;dbl&gt;</th><th scope=col>&lt;dbl&gt;</th><th scope=col>&lt;dbl&gt;</th><th scope=col>&lt;dbl&gt;</th><th scope=col>&lt;dbl&gt;</th><th scope=col>&lt;dbl&gt;</th><th scope=col>&lt;chr&gt;</th><th scope=col>&lt;chr&gt;</th><th scope=col>&lt;int&gt;</th></tr>\n",
       "</thead>\n",
       "<tbody>\n",
       "\t<tr><td>63</td><td>1</td><td>1</td><td>145</td><td>233</td><td>1</td><td>2</td><td>150</td><td>0</td><td>2.3</td><td>3</td><td>0.0</td><td>6.0</td><td>0</td></tr>\n",
       "\t<tr><td>67</td><td>1</td><td>4</td><td>160</td><td>286</td><td>0</td><td>2</td><td>108</td><td>1</td><td>1.5</td><td>2</td><td>3.0</td><td>3.0</td><td>2</td></tr>\n",
       "\t<tr><td>67</td><td>1</td><td>4</td><td>120</td><td>229</td><td>0</td><td>2</td><td>129</td><td>1</td><td>2.6</td><td>2</td><td>2.0</td><td>7.0</td><td>1</td></tr>\n",
       "\t<tr><td>⋮</td><td>⋮</td><td>⋮</td><td>⋮</td><td>⋮</td><td>⋮</td><td>⋮</td><td>⋮</td><td>⋮</td><td>⋮</td><td>⋮</td><td>⋮</td><td>⋮</td><td>⋮</td></tr>\n",
       "\t<tr><td>57</td><td>1</td><td>4</td><td>130</td><td>131</td><td>0</td><td>0</td><td>115</td><td>1</td><td>1.2</td><td>2</td><td>1.0</td><td>7.0</td><td>3</td></tr>\n",
       "\t<tr><td>57</td><td>0</td><td>2</td><td>130</td><td>236</td><td>0</td><td>2</td><td>174</td><td>0</td><td>0.0</td><td>2</td><td>1.0</td><td>3.0</td><td>1</td></tr>\n",
       "\t<tr><td>38</td><td>1</td><td>3</td><td>138</td><td>175</td><td>0</td><td>0</td><td>173</td><td>0</td><td>0.0</td><td>1</td><td>?  </td><td>3.0</td><td>0</td></tr>\n",
       "</tbody>\n",
       "</table>\n"
      ],
      "text/latex": [
       "A data.frame: 303 × 14\n",
       "\\begin{tabular}{llllllllllllll}\n",
       " age & sex & cp & trestbps & chol & fbs & restecg & thalach & exang & oldpeak & slope & ca & thal & num\\\\\n",
       " <dbl> & <dbl> & <dbl> & <dbl> & <dbl> & <dbl> & <dbl> & <dbl> & <dbl> & <dbl> & <dbl> & <chr> & <chr> & <int>\\\\\n",
       "\\hline\n",
       "\t 63 & 1 & 1 & 145 & 233 & 1 & 2 & 150 & 0 & 2.3 & 3 & 0.0 & 6.0 & 0\\\\\n",
       "\t 67 & 1 & 4 & 160 & 286 & 0 & 2 & 108 & 1 & 1.5 & 2 & 3.0 & 3.0 & 2\\\\\n",
       "\t 67 & 1 & 4 & 120 & 229 & 0 & 2 & 129 & 1 & 2.6 & 2 & 2.0 & 7.0 & 1\\\\\n",
       "\t ⋮ & ⋮ & ⋮ & ⋮ & ⋮ & ⋮ & ⋮ & ⋮ & ⋮ & ⋮ & ⋮ & ⋮ & ⋮ & ⋮\\\\\n",
       "\t 57 & 1 & 4 & 130 & 131 & 0 & 0 & 115 & 1 & 1.2 & 2 & 1.0 & 7.0 & 3\\\\\n",
       "\t 57 & 0 & 2 & 130 & 236 & 0 & 2 & 174 & 0 & 0.0 & 2 & 1.0 & 3.0 & 1\\\\\n",
       "\t 38 & 1 & 3 & 138 & 175 & 0 & 0 & 173 & 0 & 0.0 & 1 & ?   & 3.0 & 0\\\\\n",
       "\\end{tabular}\n"
      ],
      "text/markdown": [
       "\n",
       "A data.frame: 303 × 14\n",
       "\n",
       "| age &lt;dbl&gt; | sex &lt;dbl&gt; | cp &lt;dbl&gt; | trestbps &lt;dbl&gt; | chol &lt;dbl&gt; | fbs &lt;dbl&gt; | restecg &lt;dbl&gt; | thalach &lt;dbl&gt; | exang &lt;dbl&gt; | oldpeak &lt;dbl&gt; | slope &lt;dbl&gt; | ca &lt;chr&gt; | thal &lt;chr&gt; | num &lt;int&gt; |\n",
       "|---|---|---|---|---|---|---|---|---|---|---|---|---|---|\n",
       "| 63 | 1 | 1 | 145 | 233 | 1 | 2 | 150 | 0 | 2.3 | 3 | 0.0 | 6.0 | 0 |\n",
       "| 67 | 1 | 4 | 160 | 286 | 0 | 2 | 108 | 1 | 1.5 | 2 | 3.0 | 3.0 | 2 |\n",
       "| 67 | 1 | 4 | 120 | 229 | 0 | 2 | 129 | 1 | 2.6 | 2 | 2.0 | 7.0 | 1 |\n",
       "| ⋮ | ⋮ | ⋮ | ⋮ | ⋮ | ⋮ | ⋮ | ⋮ | ⋮ | ⋮ | ⋮ | ⋮ | ⋮ | ⋮ |\n",
       "| 57 | 1 | 4 | 130 | 131 | 0 | 0 | 115 | 1 | 1.2 | 2 | 1.0 | 7.0 | 3 |\n",
       "| 57 | 0 | 2 | 130 | 236 | 0 | 2 | 174 | 0 | 0.0 | 2 | 1.0 | 3.0 | 1 |\n",
       "| 38 | 1 | 3 | 138 | 175 | 0 | 0 | 173 | 0 | 0.0 | 1 | ?   | 3.0 | 0 |\n",
       "\n"
      ],
      "text/plain": [
       "    age sex cp trestbps chol fbs restecg thalach exang oldpeak slope ca  thal\n",
       "1   63  1   1  145      233  1   2       150     0     2.3     3     0.0 6.0 \n",
       "2   67  1   4  160      286  0   2       108     1     1.5     2     3.0 3.0 \n",
       "3   67  1   4  120      229  0   2       129     1     2.6     2     2.0 7.0 \n",
       "⋮   ⋮   ⋮   ⋮  ⋮        ⋮    ⋮   ⋮       ⋮       ⋮     ⋮       ⋮     ⋮   ⋮   \n",
       "301 57  1   4  130      131  0   0       115     1     1.2     2     1.0 7.0 \n",
       "302 57  0   2  130      236  0   2       174     0     0.0     2     1.0 3.0 \n",
       "303 38  1   3  138      175  0   0       173     0     0.0     1     ?   3.0 \n",
       "    num\n",
       "1   0  \n",
       "2   2  \n",
       "3   1  \n",
       "⋮   ⋮  \n",
       "301 3  \n",
       "302 1  \n",
       "303 0  "
      ]
     },
     "metadata": {},
     "output_type": "display_data"
    },
    {
     "data": {
      "text/html": [
       "<table class=\"dataframe\">\n",
       "<caption>A data.frame: 303 × 4</caption>\n",
       "<thead>\n",
       "\t<tr><th scope=col>age</th><th scope=col>trestbps</th><th scope=col>chol</th><th scope=col>num</th></tr>\n",
       "\t<tr><th scope=col>&lt;dbl&gt;</th><th scope=col>&lt;dbl&gt;</th><th scope=col>&lt;dbl&gt;</th><th scope=col>&lt;fct&gt;</th></tr>\n",
       "</thead>\n",
       "<tbody>\n",
       "\t<tr><td>63</td><td>145</td><td>233</td><td>0</td></tr>\n",
       "\t<tr><td>67</td><td>160</td><td>286</td><td>2</td></tr>\n",
       "\t<tr><td>67</td><td>120</td><td>229</td><td>1</td></tr>\n",
       "\t<tr><td>⋮</td><td>⋮</td><td>⋮</td><td>⋮</td></tr>\n",
       "\t<tr><td>57</td><td>130</td><td>131</td><td>3</td></tr>\n",
       "\t<tr><td>57</td><td>130</td><td>236</td><td>1</td></tr>\n",
       "\t<tr><td>38</td><td>138</td><td>175</td><td>0</td></tr>\n",
       "</tbody>\n",
       "</table>\n"
      ],
      "text/latex": [
       "A data.frame: 303 × 4\n",
       "\\begin{tabular}{llll}\n",
       " age & trestbps & chol & num\\\\\n",
       " <dbl> & <dbl> & <dbl> & <fct>\\\\\n",
       "\\hline\n",
       "\t 63 & 145 & 233 & 0\\\\\n",
       "\t 67 & 160 & 286 & 2\\\\\n",
       "\t 67 & 120 & 229 & 1\\\\\n",
       "\t ⋮ & ⋮ & ⋮ & ⋮\\\\\n",
       "\t 57 & 130 & 131 & 3\\\\\n",
       "\t 57 & 130 & 236 & 1\\\\\n",
       "\t 38 & 138 & 175 & 0\\\\\n",
       "\\end{tabular}\n"
      ],
      "text/markdown": [
       "\n",
       "A data.frame: 303 × 4\n",
       "\n",
       "| age &lt;dbl&gt; | trestbps &lt;dbl&gt; | chol &lt;dbl&gt; | num &lt;fct&gt; |\n",
       "|---|---|---|---|\n",
       "| 63 | 145 | 233 | 0 |\n",
       "| 67 | 160 | 286 | 2 |\n",
       "| 67 | 120 | 229 | 1 |\n",
       "| ⋮ | ⋮ | ⋮ | ⋮ |\n",
       "| 57 | 130 | 131 | 3 |\n",
       "| 57 | 130 | 236 | 1 |\n",
       "| 38 | 138 | 175 | 0 |\n",
       "\n"
      ],
      "text/plain": [
       "    age trestbps chol num\n",
       "1   63  145      233  0  \n",
       "2   67  160      286  2  \n",
       "3   67  120      229  1  \n",
       "⋮   ⋮   ⋮        ⋮    ⋮  \n",
       "301 57  130      131  3  \n",
       "302 57  130      236  1  \n",
       "303 38  138      175  0  "
      ]
     },
     "metadata": {},
     "output_type": "display_data"
    }
   ],
   "source": [
    "## cp = chest pain, trestbps = resting blood pressure, fbs = fasting blood sugar > 120 mg/dl, restecg = resting electrocardiographic results\n",
    "## thalach = maximum heart rate achieved, exang = exercise induced chest pain, oldpeak = ST depression induced by exercise\n",
    "## slope = he slope of the peak exercise ST segment, Value 1: upsloping, Value 2: flat, Value 3: downsloping\n",
    "## ca = number of major vessels(0-3), thal = 3 = normal; 6 = fixed defect; 7 = reversable defect, num = diagnosis of heart disease\n",
    "set.seed(2024)\n",
    "\n",
    "col_names <- c(\"age\", \"sex\", \"cp\", \"trestbps\", \"chol\", \"fbs\", \"restecg\", \n",
    "               \"thalach\", \"exang\", \"oldpeak\", \"slope\", \"ca\", \"thal\", \"num\")\n",
    "\n",
    "url <- \"https://raw.githubusercontent.com/JJyang30/Dsci-100-Data/main/processed.cleveland.data\"\n",
    "heart_data <- read.table(url, \n",
    "                         col.names = col_names, sep = \",\")\n",
    "\n",
    "\n",
    "heart_data_analysis <- heart_data |>\n",
    "select(age, trestbps, chol, num)|>\n",
    "mutate(num = as.factor(num)) \n",
    "\n",
    "heart_data_split <- initial_split(heart_data_analysis, prop = 0.75, strata = num)\n",
    "heart_data_train <- training(heart_data_split)\n",
    "heart_data_test <- testing(heart_data_split)\n",
    "\n",
    "heart_data\n",
    "heart_data_analysis"
   ]
  },
  {
   "cell_type": "markdown",
   "id": "4478a6fa-d4af-42fc-a0f8-e1bf519d0f10",
   "metadata": {},
   "source": [
    "## Analysis:"
   ]
  },
  {
   "cell_type": "code",
   "execution_count": 17,
   "id": "84d62917-9f0c-45ec-ace4-67d7b117b2ee",
   "metadata": {},
   "outputs": [],
   "source": [
    "set.seed(2024) # DO NOT REMOVE\n",
    "\n",
    "\n",
    "heart_vfold <- vfold_cv(heart_data_train, v = 5, strata = num)\n",
    "\n",
    "heart_recipe <- recipe(num ~ age + trestbps + chol, data = heart_data_train)|>\n",
    "step_upsample(num, over_ratio = 1, skip = FALSE)|>\n",
    "    step_scale(all_predictors()) |>\n",
    "    step_center(all_predictors()) "
   ]
  },
  {
   "cell_type": "code",
   "execution_count": 18,
   "id": "9afd7912-4a4f-46d3-a5d7-ce209b8006eb",
   "metadata": {},
   "outputs": [
    {
     "name": "stderr",
     "output_type": "stream",
     "text": [
      "→ \u001b[31m\u001b[1mA\u001b[22m\u001b[39m | \u001b[31merror\u001b[39m:   Some assessment set rows are not available at prediction time. Consider using `skip = TRUE` on any recipe steps that remove rows to avoid calling them on the assessment set.\n",
      "\n",
      "There were issues with some computations   \u001b[1m\u001b[31mA\u001b[39m\u001b[22m: x1\n",
      "\n",
      "→ \u001b[31m\u001b[1mB\u001b[22m\u001b[39m | \u001b[31merror\u001b[39m:   \u001b[1m\u001b[22m\u001b[36mℹ\u001b[39m In index: 5.\n",
      "               \u001b[36mℹ\u001b[39m With name: 4.\n",
      "               \u001b[1mCaused by error in `sample.int()`:\u001b[22m\n",
      "               \u001b[33m!\u001b[39m invalid first argument\n",
      "\n",
      "There were issues with some computations   \u001b[1m\u001b[31mA\u001b[39m\u001b[22m: x1\n",
      "There were issues with some computations   \u001b[1m\u001b[31mA\u001b[39m\u001b[22m: x3   \u001b[1m\u001b[31mB\u001b[39m\u001b[22m: x1\n",
      "\n",
      "There were issues with some computations   \u001b[1m\u001b[31mA\u001b[39m\u001b[22m: x4   \u001b[1m\u001b[31mB\u001b[39m\u001b[22m: x1\n",
      "\n",
      "\n",
      "\n",
      "Warning message:\n",
      "“All models failed. Run `show_notes(.Last.tune.result)` for more information.”\n"
     ]
    },
    {
     "ename": "ERROR",
     "evalue": "\u001b[1m\u001b[33mError\u001b[39m in `estimate_tune_results()`:\u001b[22m\n\u001b[33m!\u001b[39m All models failed. Run `show_notes(.Last.tune.result)` for more information.\n",
     "output_type": "error",
     "traceback": [
      "\u001b[1m\u001b[33mError\u001b[39m in `estimate_tune_results()`:\u001b[22m\n\u001b[33m!\u001b[39m All models failed. Run `show_notes(.Last.tune.result)` for more information.\nTraceback:\n",
      "1. collect_metrics(tune_grid(add_model(add_recipe(workflow(), heart_recipe), \n .     heart_tune), resamples = heart_vfold, grid = k_vals))",
      "2. collect_metrics.tune_results(tune_grid(add_model(add_recipe(workflow(), \n .     heart_recipe), heart_tune), resamples = heart_vfold, grid = k_vals))",
      "3. estimate_tune_results(x)",
      "4. rlang::abort(\"All models failed. Run `show_notes(.Last.tune.result)` for more information.\")",
      "5. signal_abort(cnd, .file)"
     ]
    }
   ],
   "source": [
    "\n",
    "heart_tune <- nearest_neighbor(weight_func = \"rectangular\", neighbors = tune()) |>\n",
    "       set_engine(\"kknn\") |>\n",
    "       set_mode(\"classification\")\n",
    "\n",
    "k_vals <- tibble(neighbors = seq(from = 1, to = 25, by = 1))\n",
    "\n",
    "heart_workflow <- workflow() |> add_recipe(heart_recipe) |> add_model(heart_tune) |>\n",
    "       tune_grid(resamples = heart_vfold, grid = k_vals) |>\n",
    "       collect_metrics()\n",
    "\n",
    "knn_accuracies <- heart_workflow |> \n",
    "       filter(.metric == \"accuracy\")\n",
    "\n",
    "best_k <- knn_accuracies |> \n",
    "       arrange(desc(mean)) |>\n",
    "       head(1)\n",
    "\n",
    "knn_accuracies_plot <- ggplot(knn_accuracies, aes(x = neighbors, y = mean)) +\n",
    "    geom_point() +\n",
    "    geom_line() +\n",
    "    labs(x = \"Neighbors\", y = \"Accuracy Estimate\") +\n",
    "    theme(text = element_text(size = 12))\n",
    "\n",
    "knn_accuracies\n",
    "best_k\n",
    "knn_accuracies_plot"
   ]
  },
  {
   "cell_type": "code",
   "execution_count": 19,
   "id": "9d0c8479-f1f5-404a-800e-6257d06b317c",
   "metadata": {},
   "outputs": [
    {
     "name": "stderr",
     "output_type": "stream",
     "text": [
      "Warning message:\n",
      "“While computing multiclass `precision()`, some levels had no predicted events (i.e. `true_positive + false_positive = 0`). \n",
      "Precision is undefined in this case, and those levels will be removed from the averaged result.\n",
      "Note that the following number of true events actually occured for each problematic event level:\n",
      "'3': 9\n",
      "'4': 4”\n"
     ]
    },
    {
     "data": {
      "text/html": [
       "<table class=\"dataframe\">\n",
       "<caption>A tibble: 2 × 3</caption>\n",
       "<thead>\n",
       "\t<tr><th scope=col>.metric</th><th scope=col>.estimator</th><th scope=col>.estimate</th></tr>\n",
       "\t<tr><th scope=col>&lt;chr&gt;</th><th scope=col>&lt;chr&gt;</th><th scope=col>&lt;dbl&gt;</th></tr>\n",
       "</thead>\n",
       "<tbody>\n",
       "\t<tr><td>accuracy</td><td>multiclass</td><td>0.5000000</td></tr>\n",
       "\t<tr><td>kap     </td><td>multiclass</td><td>0.0881295</td></tr>\n",
       "</tbody>\n",
       "</table>\n"
      ],
      "text/latex": [
       "A tibble: 2 × 3\n",
       "\\begin{tabular}{lll}\n",
       " .metric & .estimator & .estimate\\\\\n",
       " <chr> & <chr> & <dbl>\\\\\n",
       "\\hline\n",
       "\t accuracy & multiclass & 0.5000000\\\\\n",
       "\t kap      & multiclass & 0.0881295\\\\\n",
       "\\end{tabular}\n"
      ],
      "text/markdown": [
       "\n",
       "A tibble: 2 × 3\n",
       "\n",
       "| .metric &lt;chr&gt; | .estimator &lt;chr&gt; | .estimate &lt;dbl&gt; |\n",
       "|---|---|---|\n",
       "| accuracy | multiclass | 0.5000000 |\n",
       "| kap      | multiclass | 0.0881295 |\n",
       "\n"
      ],
      "text/plain": [
       "  .metric  .estimator .estimate\n",
       "1 accuracy multiclass 0.5000000\n",
       "2 kap      multiclass 0.0881295"
      ]
     },
     "metadata": {},
     "output_type": "display_data"
    },
    {
     "data": {
      "text/html": [
       "<table class=\"dataframe\">\n",
       "<caption>A tibble: 1 × 3</caption>\n",
       "<thead>\n",
       "\t<tr><th scope=col>.metric</th><th scope=col>.estimator</th><th scope=col>.estimate</th></tr>\n",
       "\t<tr><th scope=col>&lt;chr&gt;</th><th scope=col>&lt;chr&gt;</th><th scope=col>&lt;dbl&gt;</th></tr>\n",
       "</thead>\n",
       "<tbody>\n",
       "\t<tr><td>precision</td><td>macro</td><td>0.4388889</td></tr>\n",
       "</tbody>\n",
       "</table>\n"
      ],
      "text/latex": [
       "A tibble: 1 × 3\n",
       "\\begin{tabular}{lll}\n",
       " .metric & .estimator & .estimate\\\\\n",
       " <chr> & <chr> & <dbl>\\\\\n",
       "\\hline\n",
       "\t precision & macro & 0.4388889\\\\\n",
       "\\end{tabular}\n"
      ],
      "text/markdown": [
       "\n",
       "A tibble: 1 × 3\n",
       "\n",
       "| .metric &lt;chr&gt; | .estimator &lt;chr&gt; | .estimate &lt;dbl&gt; |\n",
       "|---|---|---|\n",
       "| precision | macro | 0.4388889 |\n",
       "\n"
      ],
      "text/plain": [
       "  .metric   .estimator .estimate\n",
       "1 precision macro      0.4388889"
      ]
     },
     "metadata": {},
     "output_type": "display_data"
    },
    {
     "data": {
      "text/html": [
       "<table class=\"dataframe\">\n",
       "<caption>A tibble: 1 × 3</caption>\n",
       "<thead>\n",
       "\t<tr><th scope=col>.metric</th><th scope=col>.estimator</th><th scope=col>.estimate</th></tr>\n",
       "\t<tr><th scope=col>&lt;chr&gt;</th><th scope=col>&lt;chr&gt;</th><th scope=col>&lt;dbl&gt;</th></tr>\n",
       "</thead>\n",
       "<tbody>\n",
       "\t<tr><td>recall</td><td>macro</td><td>0.2434432</td></tr>\n",
       "</tbody>\n",
       "</table>\n"
      ],
      "text/latex": [
       "A tibble: 1 × 3\n",
       "\\begin{tabular}{lll}\n",
       " .metric & .estimator & .estimate\\\\\n",
       " <chr> & <chr> & <dbl>\\\\\n",
       "\\hline\n",
       "\t recall & macro & 0.2434432\\\\\n",
       "\\end{tabular}\n"
      ],
      "text/markdown": [
       "\n",
       "A tibble: 1 × 3\n",
       "\n",
       "| .metric &lt;chr&gt; | .estimator &lt;chr&gt; | .estimate &lt;dbl&gt; |\n",
       "|---|---|---|\n",
       "| recall | macro | 0.2434432 |\n",
       "\n"
      ],
      "text/plain": [
       "  .metric .estimator .estimate\n",
       "1 recall  macro      0.2434432"
      ]
     },
     "metadata": {},
     "output_type": "display_data"
    }
   ],
   "source": [
    "set.seed(2024)\n",
    "knn_best_spec <- nearest_neighbor(weight_func = \"rectangular\", neighbors = 12) |>\n",
    "       set_engine(\"kknn\") |>\n",
    "       set_mode(\"classification\")\n",
    "\n",
    "heart_best_fit <- workflow() |>\n",
    "       add_recipe(heart_recipe) |>\n",
    "       add_model(knn_best_spec) |>\n",
    "       fit(data = heart_data_train)\n",
    "\n",
    "heart_test_predictions <- predict(heart_best_fit , heart_data_test) |>\n",
    "       bind_cols(heart_data_test)\n",
    "\n",
    "heart_prediction_accuracy <- heart_test_predictions |>\n",
    "        metrics(truth = num, estimate = .pred_class) \n",
    "\n",
    "heart_prediction_precision <- heart_test_predictions |>\n",
    "        precision(truth = num, estimate = .pred_class)\n",
    "\n",
    "heart_prediction_recall <- heart_test_predictions |>\n",
    "        recall(truth = num, estimate = .pred_class)\n",
    "\n",
    "heart_prediction_accuracy\n",
    "heart_prediction_precision\n",
    "heart_prediction_recall"
   ]
  },
  {
   "cell_type": "markdown",
   "id": "90981ca0-444c-464f-852f-4bc61f2b6d13",
   "metadata": {},
   "source": [
    "Methods:\n",
    "--------\n",
    "We first read the Heart Disease data frame into R and renamed the columns. We selected the 3 columns that we will use to predict a diagnosis: age, trestbps, and chol, as well as the diagnosis column: num. We split the data set. 75% was retained for training and the remaining 25% were used for testing. Then, we converted the num column (diagnosis) into a factor data type since it is a categorical variable. Next, we created the recipe, heart_data_recipe, which states that age, trestbps, and chol are the predicting factors for a heart disease diagnosis. We scaled and centered these three predictors. Then we made the model, knn_spec, setting the weight function to be rectangular to give each k-nearest neighbor exactly one vote towards the prediction of a new observation. We set the k-value to tune since we would later use cross-validation to select the k-value with the highest accuracy. We used 5-fold cross-validation to assess the accuracy of our predictive model, naming this object hd_vfold. We then picked potential k-values, ranging from one to 25, increasing in increments of 1, and we called this object k_vals. Our justification for using a range of K values between 0 - 25 for cross validation was to restrict the value to be less than 25 to reduce the complexity of our classification as we are using three parameters. This helps decrease the run-time and improve computing efficiency. We also wanted to prevent overfitting since with tests, we have found that K values above 25 does not increase significantly. Therefore, we argue it is better to use a smaller value of K to prevent our system from learning the training data too well and doing poorly on real data. \n",
    " \n",
    "Subsequently, we combined the pieces of code using a workflow which included our recipe, heart_data_recipe, and model, knn_spec. We used the tune_grid function, setting the resamples argument as hd_vfold, and the grid argument as k_vals. We used the collect_metrics function to compile the average and standard error of the classifier's validation accuracy across the five folds. Next, we filtered the data in order to keep the accuracy row. We then plotted the k-values versus the mean accuracy of our predictive model using that k-value. Additionally, we used the arrange, head, and pull function to find the k-value with the highest accuracy. Both the graph and the numerical value we found showed that a k-value of 12 demonstrated the highest accuracy. \n",
    "\n",
    "Lastly, we performed K-nearest neighbor prediction calculations using testing data as the new observations to predict if each patient has heart disease. We compared this prediction to the patient's actual status and calculated the accuracy, precision, and recall of the predictions based on the data from the database.\n",
    "\n",
    "\n"
   ]
  },
  {
   "cell_type": "markdown",
   "id": "3c4d3442-e9a8-45f9-b2d9-26e9b1689c45",
   "metadata": {},
   "source": [
    "Discussion:\n",
    "----------\n",
    "After running our cross validation we can see that we have a 50% chance of predicting the right diagnosis. This accuracy can be justified since there are a total of 5 classes, 0-4, and random guessing would only give a 20% chance of getting the right class. Therefore, a 50% accuracy through our classification algorithm is understandable despite it not being ideal. A factor that could have affected the accuracy was due to the complexity of the data, since there were 13 possible predictors and we only selected three to predict the class. This level of complexity in the data makes it difficult to make an accurate prediction without over-complicating the algorithm by including all the variables as predictors. If we had done so, potential overfitting may have occurred and the algorithm would have been overloaded with too many dimensions to consider. Hence, contrary to our expectations, we find that this dataset cannot accurately predict the heart disease diagnosis of patients to an extent that will be beneficial to hospitals. A potential implication of this finding is that heart disease is a complex diagnosis and the multitude of factors involved means that it should be considered on a case-by-case basis for accuracy and treatment. The questions that we would like to pose for future consideration is thus whether it is possible for algorithms capable of handling more complex functions to accurately predict heart disease diagnoses and if other predictors will give a more accurate diagnosis for heart diseases.\n",
    " \n",
    "\n",
    "\n",
    "\n",
    "\n",
    "\n",
    "References and Credits:\n",
    "-----------------------\n",
    "\n",
    "- Janosi, A., Steinbrunn, W., Pfisterer, M., and Detrano, R. (1988). Heart Disease. UCI Machine Learning Repository. https://doi.org/10.24432/C52P4X.\n",
    "\n",
    "\n"
   ]
  }
 ],
 "metadata": {
  "kernelspec": {
   "display_name": "R",
   "language": "R",
   "name": "ir"
  },
  "language_info": {
   "codemirror_mode": "r",
   "file_extension": ".r",
   "mimetype": "text/x-r-source",
   "name": "R",
   "pygments_lexer": "r",
   "version": "4.3.1"
  }
 },
 "nbformat": 4,
 "nbformat_minor": 5
}
